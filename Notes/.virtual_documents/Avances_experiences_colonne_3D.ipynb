











import numpy as np
import matplotlib.pyplot as plt
import pandas as pd
from scipy.optimize import curve_fit


file_path='/home/ruben/M2-THESE-RUBEN-LIPHY/test_colonne_sans_mousse_100_co2.csv'
file_path2='/home/ruben/M2-THESE-RUBEN-LIPHY/test_colonne_sans_mousse_co2-vidage.csv'


db=pd.read_csv(file_path)
db2=pd.read_csv(file_path2)


plt.figure()
plt.scatter(db.index/2, db['Media value concentration']/100, label='Test_1 remplissage', marker='o', s=2)
plt.scatter(db2.index/2, db2['Media value concentration']/100, label = 'Test_1 vidange', marker='o', s=2)
plt.xlabel('timestep')
plt.ylabel('Concentration of CO2')
plt.xlabel('timestep')
plt.ylabel('Concentration of CO2')
plt.title('Test 1 remplissage et vidange du CO2 100% debit sans mousse', fontsize=20)
plt.legend()
plt.show()











file_path3='/home/ruben/M2-THESE-RUBEN-LIPHY/test_colonne_sans_mousse_100_co2-2.csv'
file_path4='/home/ruben/M2-THESE-RUBEN-LIPHY/test_colonne_sans_mousse_co2-vidage-2.csv'


db3=pd.read_csv(file_path3)
db4=pd.read_csv(file_path4)


plt.figure()
plt.scatter(db3.index/2, db3['Media value concentration']/100, label='Test_2 remplissage', marker='o', s=2)
plt.scatter(db4.index/2, db4['Media value concentration']/100, label='Test_2 vidange', marker='o', s=2)
plt.xlabel('timestep')
plt.ylabel('Concentration of CO2')
plt.title('Test 2 remplissage et vidange du CO2 100% debit sans mousse', fontsize=20)
plt.legend()
plt.show()











file_path5='/home/ruben/M2-THESE-RUBEN-LIPHY/test_colonne_sans_mousse_50_co2.csv'
file_path6='/home/ruben/M2-THESE-RUBEN-LIPHY/test_colonne_sans_mousse_co2-vidage-50.csv'


db5=pd.read_csv(file_path5)
db6=pd.read_csv(file_path6)


plt.figure()
plt.scatter(db5.index/2, db5['Media value concentration']/100, label='Test_3 remplissage', marker='o', s=2)
plt.scatter(db6.index/2, db6['Media value concentration']/100, label='Test_3 vidange', marker='o', s=2)
plt.xlabel('timestep')
plt.ylabel('Concentration of CO2')
plt.title('Test 3 remplissage et vidange du CO2 50% debit sans mousse', fontsize=20)
plt.legend()
plt.show()











file_path7='/home/ruben/M2-THESE-RUBEN-LIPHY/test_colonne_sans_mousse_100_co2-3.csv'
file_path8='/home/ruben/M2-THESE-RUBEN-LIPHY/test_colonne_sans_mousse_co2-vidage-3.csv'


db7=pd.read_csv(file_path7)
db8=pd.read_csv(file_path8)


plt.figure()
plt.scatter(db7.index/2, db7['Media value concentration']/100, label='Test_4 remplissage', marker='o', s=2)
plt.scatter(db8.index/2, db8['Media value concentration']/100, label='Test_4 vidange', marker='o', s=2)
plt.xlabel('Timestep')
plt.ylabel('Concentration CO2')
plt.legend()
plt.title('Test 4 remplissage et vidange du CO2 100% debit sans mousse', fontsize=20)
plt.show()











def func(x, a, b, c, phi):
    return a*np.exp(-b*x+phi)+c








def func2(x, a, b, c, phi):
    return a/(1+((a-c)/c)*np.exp(-b*x+phi)) 





xdata2=db2.index/2  ### TEST 1 VIDANGE
popt2, pcov2=curve_fit(func, xdata2, db2['Media value concentration']/100)#, bounds=(0, [75., 1., 0.5]))
popt2


xdata6=db.index/2   ### TEST 1 REMPLISSAGE
popt6, pcov6=curve_fit(func2, xdata6, db['Media value concentration']/100)
popt6





plt.figure()
plt.scatter(db.index/2, db['Media value concentration']/100, label='Test_1 remplissage', marker='o', s=2)
plt.scatter(db2.index/2, db2['Media value concentration']/100, label = 'Test_1 vidange', marker='o', s=2)
plt.plot(xdata2, func(xdata2, *popt2), 'r-', label='fit: a=%5.5f, b=%5.5f, c=%5.5f, phi=%5.5f ' % tuple(popt2))
plt.plot(xdata6, func2(xdata6, *popt6), 'b-', label='fit: a=%5.5f, b=%5.5f, c=%5.5f, phi=%5.5f ' % tuple(popt6))
plt.xlabel('timestep')
plt.ylabel('Concentration of CO2')
plt.xlabel('timestep')
plt.ylabel('Concentration of CO2')
plt.title('Test 1 remplissage et vidange du CO2 100% debit sans mousse et functions fit', fontsize=20)
plt.legend()
plt.show()





tau=1/0.00261
tau


tau2=1/0.02066
tau2











xdata3=db4.index/2   ### TEST 2 VIDANGE
popt3, pcov3=curve_fit(func, xdata3, db4['Media value concentration']/100)#, bounds=(0, [75., 1., 0.5]))
popt3


xdata7=db3.index/2  ### TEST 2 REMPLISSAGE
popt7, pcov7=curve_fit(func2, xdata7, db3['Media value concentration']/100)
popt7





plt.figure()
plt.scatter(db3.index/2, db3['Media value concentration']/100, label='Test_2 remplissage', marker='o', s=2)
plt.scatter(db4.index/2, db4['Media value concentration']/100, label='Test_2 vidange', marker='o', s=2)
plt.plot(xdata3, func(xdata3, *popt3), 'r-', label='fit: a=%5.5f, b=%5.5f, c=%5.5f, phi=%5.5f  ' % tuple(popt3))
plt.plot(xdata7, func2(xdata7, *popt7), 'b-', label='fit: a=%5.5f, b=%5.5f, c=%5.5f, phi=%5.5f ' % tuple(popt7))
plt.xlabel('timestep')
plt.ylabel('Concentration of CO2')
plt.title('Test 2 remplissage et vidange du CO2 100% debit sans mousse et functions fit', fontsize=20)
plt.legend()
plt.show()





tau=1/0.00261
tau





tau2=1/0.02572
tau2











xdata4=db6.index/2   ### TEST 3 VIDANGE
popt4, pcov4=curve_fit(func, xdata4, db6['Media value concentration']/100)#, bounds=(0, [75., 1., 0.5]))
popt4


xdata8=db5.index/2  ### TEST 3 REMPLISSAGE
popt8, pcov8=curve_fit(func2, xdata8, db5['Media value concentration']/100)
popt8


plt.figure()
plt.scatter(db5.index/2, db5['Media value concentration']/100, label='Test_3 remplissage', marker='o', s=2)
plt.scatter(db6.index/2, db6['Media value concentration']/100, label='Test_3 vidange', marker='o', s=2)
plt.plot(xdata4, func(xdata4, *popt4), 'r-', label='fit: a=%5.5f, b=%5.5f, c=%5.5f, phi=%5.5f  ' % tuple(popt4))
plt.plot(xdata8, func2(xdata8, *popt8), 'b-', label='fit: a=%5.5f, b=%5.5f, c=%5.5f, phi=%5.5f  ' % tuple(popt8))
plt.title('Test 3 remplissage et vidange du CO2 50% debit sans mousse et functions fit', fontsize=20)
plt.legend()
plt.show()





tau3=1/0.00130
tau3


tau3/tau








tau4=1/0.01080
tau4


tau4/tau2











xdata=db8.index/2   #### TEST 4 VIDANGE
popt, pcov=curve_fit(func, xdata, db8['Media value concentration']/100)#, bounds=(0, [75., 1., 0.5]))
popt


xdata5=db7.index/2   #### TEST 4 REMPLISSAGE
popt5, pcov5=curve_fit(func2, xdata5, db7['Media value concentration']/100)
popt5


plt.figure()
plt.scatter(db7.index/2, db7['Media value concentration']/100, label='Test_4 remplissage', marker='o', s=2)
plt.scatter(db8.index/2, db8['Media value concentration']/100, label='Test_4 vidange', marker='o', s=2)
plt.plot(xdata, func(xdata, *popt), 'r-', label='fit: a=%5.5f, b=%5.5f, c=%5.5f, phi=%5.5f ' % tuple(popt))
plt.plot(xdata5, func2(xdata5, *popt5), 'b-', label='fit: a=%5.5f, b=%5.5f, c=%5.5f, phi=%5.5f ' % tuple(popt5))
plt.xlabel('Timestep')
plt.ylabel('Concentration CO2')
plt.title('Test 4 remplissage et vidange du CO2 100% debit sans mousse et functions fit', fontsize=20)
plt.legend()
plt.show()





tau=1/0.00251
tau





tau2=1/0.02479
tau2


tau/tau2














file_path='/home/ruben/M2-THESE-RUBEN-LIPHY/Tests_colonne_mousse_3D/test-colonne-3d-co2-15.csv'
file_path2='/home/ruben/M2-THESE-RUBEN-LIPHY/Tests_colonne_mousse_3D/test-colonne-3d-co2-15-vidange.csv'
file_path3='/home/ruben/M2-THESE-RUBEN-LIPHY/Tests_colonne_mousse_3D/test-colonne-3d-co2-15-2.csv'
file_path4='/home/ruben/M2-THESE-RUBEN-LIPHY/Tests_colonne_mousse_3D/test-colonne-3d-co2-15-vidange-2.csv'
db=pd.read_csv(file_path)
db2=pd.read_csv(file_path2)
db3=pd.read_csv(file_path3)
db4=pd.read_csv(file_path4)





xdata=db.index/2   #### TEST 1 REMPLISSAGE
popt, pcov=curve_fit(func2, xdata, db['Media concentration value']/100)
popt
xdata2=db2.index/2 ### TEST 1 VIDANGE
popt2, pcov2=curve_fit(func, xdata2, db2['Media concentration value']/100)
popt2


plt.figure()
plt.scatter(db.index/2, db['Media concentration value']/100, label='Test_1 remplissage', marker='o', s=2)
plt.scatter(db2.index/2, db2['Media concentration value']/100, label='Test_1 vidange', marker='o', s=2)
plt.plot(xdata, func2(xdata, *popt), 'k-', label='fit: a=%5.5f, b=%5.5f, c=%5.5f, phi=%5.5f ' % tuple(popt))
plt.plot(xdata2, func(xdata2, *popt2), 'r-', label='fit: a=%5.5f, b=%5.5f, c=%5.5f, phi=%5.5f ' % tuple(popt2))
plt.xlabel('timestep')
plt.ylabel('Concentration of CO2')
plt.xlabel('timestep')
plt.ylabel('Concentration of CO2')
plt.legend()
plt.title('Test 1 colonne 3D remplissage du CO2 15% debit', fontsize=20)
plt.show()








xdata3=db3.index/2  ### TEST 2 REMPLISSAGE
popt3, pcov3=curve_fit(func2, xdata3, db3['Media concentration value']/100)
popt3
xdata4=db4.index/2  #### TEST 2 VIDANGE
popt4, pcov4=curve_fit(func, xdata4, db4['Media value concentration']/100)
popt4


plt.figure()
plt.scatter(db3.index/2, db3['Media concentration value']/100, label='Test_2 remplissage', marker='o', s=2)
plt.scatter(db4.index/2, db4['Media value concentration']/100, label='Test_2 vidange', marker='o', s=2)
plt.plot(xdata3, func2(xdata3, *popt3), 'k-', label='fit: a=%5.5f, b=%5.5f, c=%5.5f, phi=%5.5f ' % tuple(popt3))
plt.plot(xdata4, func(xdata4, *popt4), 'r-', label='fit: a=%5.5f, b=%5.5f, c=%5.5f, phi=%5.5f ' % tuple(popt4))
plt.xlabel('timestep')
plt.ylabel('Concentration of CO2')
plt.xlabel('timestep')
plt.ylabel('Concentration of CO2')
plt.legend()
plt.title('Test 2 colonne 3D remplissage et vidange du CO2 15% debit', fontsize=20)
plt.show()





tau=1/0.00188
tau





tau2=1/0.00043
tau2












